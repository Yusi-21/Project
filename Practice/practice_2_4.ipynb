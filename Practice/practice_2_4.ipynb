{
  "nbformat": 4,
  "nbformat_minor": 0,
  "metadata": {
    "colab": {
      "provenance": [],
      "authorship_tag": "ABX9TyMjuKbZC5pPe4NKTVxIEyFW",
      "include_colab_link": true
    },
    "kernelspec": {
      "name": "python3",
      "display_name": "Python 3"
    },
    "language_info": {
      "name": "python"
    }
  },
  "cells": [
    {
      "cell_type": "markdown",
      "metadata": {
        "id": "view-in-github",
        "colab_type": "text"
      },
      "source": [
        "<a href=\"https://colab.research.google.com/github/Yusi-21/Project/blob/main/Practice_2_4.ipynb\" target=\"_parent\"><img src=\"https://colab.research.google.com/assets/colab-badge.svg\" alt=\"Open In Colab\"/></a>"
      ]
    },
    {
      "cell_type": "code",
      "execution_count": 1,
      "metadata": {
        "colab": {
          "base_uri": "https://localhost:8080/"
        },
        "id": "J1bV-v5BgP31",
        "outputId": "5f0dccaf-8729-4055-e9fa-6ee88df08f24"
      },
      "outputs": [
        {
          "output_type": "stream",
          "name": "stdout",
          "text": [
            "Collecting z3-solver\n",
            "  Downloading z3_solver-4.13.0.0-py2.py3-none-manylinux2014_x86_64.whl.metadata (757 bytes)\n",
            "Downloading z3_solver-4.13.0.0-py2.py3-none-manylinux2014_x86_64.whl (57.3 MB)\n",
            "\u001b[2K   \u001b[90m━━━━━━━━━━━━━━━━━━━━━━━━━━━━━━━━━━━━━━━━\u001b[0m \u001b[32m57.3/57.3 MB\u001b[0m \u001b[31m9.6 MB/s\u001b[0m eta \u001b[36m0:00:00\u001b[0m\n",
            "\u001b[?25hInstalling collected packages: z3-solver\n",
            "Successfully installed z3-solver-4.13.0.0\n",
            "Решение: x1 = 2, x2 = 0, x3 = 1\n"
          ]
        }
      ],
      "source": [
        "# Установка библиотеки Z3\n",
        "!pip install z3-solver\n",
        "\n",
        "from z3 import *\n",
        "\n",
        "# Создаем переменные\n",
        "x1 = Int('x1')\n",
        "x2 = Int('x2')\n",
        "x3 = Int('x3')\n",
        "\n",
        "# Создаем решатель\n",
        "solver = Solver()\n",
        "\n",
        "# Ограничение: цифры должны быть от 0 до 9\n",
        "solver.add(And(x1 >= 0, x1 <= 9))\n",
        "solver.add(And(x2 >= 0, x2 <= 9))\n",
        "solver.add(And(x3 >= 0, x3 <= 9))\n",
        "\n",
        "# Ограничение: все цифры должны быть различными\n",
        "solver.add(Distinct(x1, x2, x3))\n",
        "\n",
        "# Ограничение: сумма трех цифр равна 3\n",
        "solver.add(x1 + x2 + x3 == 3)\n",
        "\n",
        "# Решение задачи\n",
        "if solver.check() == sat:\n",
        "    model = solver.model()\n",
        "    print(f\"Решение: x1 = {model[x1]}, x2 = {model[x2]}, x3 = {model[x3]}\")\n",
        "else:\n",
        "    print(\"Решений нет\")\n"
      ]
    }
  ]
}
