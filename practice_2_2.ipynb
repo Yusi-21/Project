{
  "nbformat": 4,
  "nbformat_minor": 0,
  "metadata": {
    "colab": {
      "provenance": [],
      "authorship_tag": "ABX9TyPaSpIuOJlsYyWK+cyJQDXB",
      "include_colab_link": true
    },
    "kernelspec": {
      "name": "python3",
      "display_name": "Python 3"
    },
    "language_info": {
      "name": "python"
    }
  },
  "cells": [
    {
      "cell_type": "markdown",
      "metadata": {
        "id": "view-in-github",
        "colab_type": "text"
      },
      "source": [
        "<a href=\"https://colab.research.google.com/github/Yusi-21/Project/blob/main/practice_2_2.ipynb\" target=\"_parent\"><img src=\"https://colab.research.google.com/assets/colab-badge.svg\" alt=\"Open In Colab\"/></a>"
      ]
    },
    {
      "cell_type": "markdown",
      "source": [
        "**1. Установка Node.js в Google Colab**"
      ],
      "metadata": {
        "id": "AM1Fc42Ks_Gn"
      }
    },
    {
      "cell_type": "code",
      "execution_count": 1,
      "metadata": {
        "colab": {
          "base_uri": "https://localhost:8080/"
        },
        "id": "T88LppMEsReW",
        "outputId": "efedafe0-883f-4444-a415-3eab521ee199"
      },
      "outputs": [
        {
          "output_type": "stream",
          "name": "stdout",
          "text": [
            "Reading package lists... Done\n",
            "Building dependency tree... Done\n",
            "Reading state information... Done\n",
            "The following additional packages will be installed:\n",
            "  javascript-common libc-ares2 libjs-highlight.js libnode72 nodejs-doc\n",
            "Suggested packages:\n",
            "  apache2 | lighttpd | httpd npm\n",
            "The following NEW packages will be installed:\n",
            "  javascript-common libc-ares2 libjs-highlight.js libnode72 nodejs nodejs-doc\n",
            "0 upgraded, 6 newly installed, 0 to remove and 49 not upgraded.\n",
            "Need to get 13.7 MB of archives.\n",
            "After this operation, 54.0 MB of additional disk space will be used.\n",
            "Get:1 http://archive.ubuntu.com/ubuntu jammy/main amd64 javascript-common all 11+nmu1 [5,936 B]\n",
            "Get:2 http://archive.ubuntu.com/ubuntu jammy/universe amd64 libjs-highlight.js all 9.18.5+dfsg1-1 [367 kB]\n",
            "Get:3 http://archive.ubuntu.com/ubuntu jammy-updates/main amd64 libc-ares2 amd64 1.18.1-1ubuntu0.22.04.3 [45.1 kB]\n",
            "Get:4 http://archive.ubuntu.com/ubuntu jammy-updates/universe amd64 libnode72 amd64 12.22.9~dfsg-1ubuntu3.6 [10.8 MB]\n",
            "Get:5 http://archive.ubuntu.com/ubuntu jammy-updates/universe amd64 nodejs-doc all 12.22.9~dfsg-1ubuntu3.6 [2,411 kB]\n",
            "Get:6 http://archive.ubuntu.com/ubuntu jammy-updates/universe amd64 nodejs amd64 12.22.9~dfsg-1ubuntu3.6 [122 kB]\n",
            "Fetched 13.7 MB in 3s (4,170 kB/s)\n",
            "Selecting previously unselected package javascript-common.\n",
            "(Reading database ... 123599 files and directories currently installed.)\n",
            "Preparing to unpack .../0-javascript-common_11+nmu1_all.deb ...\n",
            "Unpacking javascript-common (11+nmu1) ...\n",
            "Selecting previously unselected package libjs-highlight.js.\n",
            "Preparing to unpack .../1-libjs-highlight.js_9.18.5+dfsg1-1_all.deb ...\n",
            "Unpacking libjs-highlight.js (9.18.5+dfsg1-1) ...\n",
            "Selecting previously unselected package libc-ares2:amd64.\n",
            "Preparing to unpack .../2-libc-ares2_1.18.1-1ubuntu0.22.04.3_amd64.deb ...\n",
            "Unpacking libc-ares2:amd64 (1.18.1-1ubuntu0.22.04.3) ...\n",
            "Selecting previously unselected package libnode72:amd64.\n",
            "Preparing to unpack .../3-libnode72_12.22.9~dfsg-1ubuntu3.6_amd64.deb ...\n",
            "Unpacking libnode72:amd64 (12.22.9~dfsg-1ubuntu3.6) ...\n",
            "Selecting previously unselected package nodejs-doc.\n",
            "Preparing to unpack .../4-nodejs-doc_12.22.9~dfsg-1ubuntu3.6_all.deb ...\n",
            "Unpacking nodejs-doc (12.22.9~dfsg-1ubuntu3.6) ...\n",
            "Selecting previously unselected package nodejs.\n",
            "Preparing to unpack .../5-nodejs_12.22.9~dfsg-1ubuntu3.6_amd64.deb ...\n",
            "Unpacking nodejs (12.22.9~dfsg-1ubuntu3.6) ...\n",
            "Setting up javascript-common (11+nmu1) ...\n",
            "Setting up libc-ares2:amd64 (1.18.1-1ubuntu0.22.04.3) ...\n",
            "Setting up libnode72:amd64 (12.22.9~dfsg-1ubuntu3.6) ...\n",
            "Setting up libjs-highlight.js (9.18.5+dfsg1-1) ...\n",
            "Setting up nodejs (12.22.9~dfsg-1ubuntu3.6) ...\n",
            "update-alternatives: using /usr/bin/nodejs to provide /usr/bin/js (js) in auto mode\n",
            "Setting up nodejs-doc (12.22.9~dfsg-1ubuntu3.6) ...\n",
            "Processing triggers for man-db (2.10.2-1) ...\n",
            "Processing triggers for libc-bin (2.35-0ubuntu3.4) ...\n",
            "/sbin/ldconfig.real: /usr/local/lib/libur_loader.so.0 is not a symbolic link\n",
            "\n",
            "/sbin/ldconfig.real: /usr/local/lib/libtbbbind_2_0.so.3 is not a symbolic link\n",
            "\n",
            "/sbin/ldconfig.real: /usr/local/lib/libtbbbind.so.3 is not a symbolic link\n",
            "\n",
            "/sbin/ldconfig.real: /usr/local/lib/libtbbbind_2_5.so.3 is not a symbolic link\n",
            "\n",
            "/sbin/ldconfig.real: /usr/local/lib/libtbbmalloc_proxy.so.2 is not a symbolic link\n",
            "\n",
            "/sbin/ldconfig.real: /usr/local/lib/libtbbmalloc.so.2 is not a symbolic link\n",
            "\n",
            "/sbin/ldconfig.real: /usr/local/lib/libur_adapter_opencl.so.0 is not a symbolic link\n",
            "\n",
            "/sbin/ldconfig.real: /usr/local/lib/libtbb.so.12 is not a symbolic link\n",
            "\n",
            "/sbin/ldconfig.real: /usr/local/lib/libur_adapter_level_zero.so.0 is not a symbolic link\n",
            "\n",
            "v12.22.9\n"
          ]
        }
      ],
      "source": [
        "!apt-get install -y nodejs\n",
        "\n",
        "!node -v"
      ]
    },
    {
      "cell_type": "markdown",
      "source": [
        "**2. Установка пакета Express.js и вывод служебной информации**"
      ],
      "metadata": {
        "id": "2VETNr2KtKEl"
      }
    },
    {
      "cell_type": "code",
      "source": [
        "# Инициализируем проект Node.js\n",
        "!npm init -y\n",
        "\n",
        "# Устанавливаем пакет express\n",
        "!npm install express\n",
        "\n",
        "# Выводим информацию о пакете express\n",
        "!npm show express\n"
      ],
      "metadata": {
        "colab": {
          "base_uri": "https://localhost:8080/"
        },
        "id": "zydx1Turssxz",
        "outputId": "a1e49d74-e0a0-4c42-95e6-e30553b7eeda"
      },
      "execution_count": 2,
      "outputs": [
        {
          "output_type": "stream",
          "name": "stdout",
          "text": [
            "Wrote to /content/package.json:\n",
            "\n",
            "{\n",
            "  \"name\": \"content\",\n",
            "  \"version\": \"1.0.0\",\n",
            "  \"description\": \"\",\n",
            "  \"main\": \"index.js\",\n",
            "  \"scripts\": {\n",
            "    \"test\": \"echo \\\"Error: no test specified\\\" && exit 1\"\n",
            "  },\n",
            "  \"keywords\": [],\n",
            "  \"author\": \"\",\n",
            "  \"license\": \"ISC\"\n",
            "}\n",
            "\n",
            "\n",
            "\u001b[K\u001b[?25h\n",
            "added 65 packages, and audited 66 packages in 4s\n",
            "\n",
            "13 packages are looking for funding\n",
            "  run `npm fund` for details\n",
            "\n",
            "found \u001b[32m\u001b[1m0\u001b[22m\u001b[39m vulnerabilities\n",
            "\n",
            "\u001b[4m\u001b[1m\u001b[32mexpress\u001b[39m@\u001b[32m4.21.0\u001b[39m\u001b[22m\u001b[24m | \u001b[32mMIT\u001b[39m | deps: \u001b[36m31\u001b[39m | versions: \u001b[33m279\u001b[39m\n",
            "Fast, unopinionated, minimalist web framework\n",
            "\u001b[36mhttp://expressjs.com/\u001b[39m\n",
            "\n",
            "keywords: \u001b[33mexpress, framework, sinatra, web, http, rest, restful, router, app, api\u001b[39m\n",
            "\n",
            "dist\n",
            ".tarball: \u001b[36mhttps://registry.npmjs.org/express/-/express-4.21.0.tgz\u001b[39m\n",
            ".shasum: \u001b[33md57cb706d49623d4ac27833f1cbc466b668eb915\u001b[39m\n",
            ".integrity: \u001b[33msha512-VqcNGcj/Id5ZT1LZ/cfihi3ttTn+NJmkli2eZADigjq29qTlWi/hAQ43t/VLPq8+UX06FCEx3ByOYet6ZFblng==\u001b[39m\n",
            ".unpackedSize: \u001b[33m220.8 kB\u001b[39m\n",
            "\n",
            "dependencies:\n",
            "\u001b[33maccepts\u001b[39m: ~1.3.8\n",
            "\u001b[33marray-flatten\u001b[39m: 1.1.1\n",
            "\u001b[33mbody-parser\u001b[39m: 1.20.3\n",
            "\u001b[33mcontent-disposition\u001b[39m: 0.5.4\n",
            "\u001b[33mcontent-type\u001b[39m: ~1.0.4\n",
            "\u001b[33mcookie-signature\u001b[39m: 1.0.6\n",
            "\u001b[33mcookie\u001b[39m: 0.6.0\n",
            "\u001b[33mdebug\u001b[39m: 2.6.9\n",
            "\u001b[33mdepd\u001b[39m: 2.0.0\n",
            "\u001b[33mencodeurl\u001b[39m: ~2.0.0\n",
            "\u001b[33mescape-html\u001b[39m: ~1.0.3\n",
            "\u001b[33metag\u001b[39m: ~1.8.1\n",
            "\u001b[33mfinalhandler\u001b[39m: 1.3.1\n",
            "\u001b[33mfresh\u001b[39m: 0.5.2\n",
            "\u001b[33mhttp-errors\u001b[39m: 2.0.0\n",
            "\u001b[33mmerge-descriptors\u001b[39m: 1.0.3\n",
            "\u001b[33mmethods\u001b[39m: ~1.1.2\n",
            "\u001b[33mon-finished\u001b[39m: 2.4.1\n",
            "\u001b[33mparseurl\u001b[39m: ~1.3.3\n",
            "\u001b[33mpath-to-regexp\u001b[39m: 0.1.10\n",
            "\u001b[33mproxy-addr\u001b[39m: ~2.0.7\n",
            "\u001b[33mqs\u001b[39m: 6.13.0\n",
            "\u001b[33mrange-parser\u001b[39m: ~1.2.1\n",
            "\u001b[33msafe-buffer\u001b[39m: 5.2.1\n",
            "(...and 7 more.)\n",
            "\n",
            "maintainers:\n",
            "- \u001b[33mwesleytodd\u001b[39m <\u001b[36mwes@wesleytodd.com\u001b[39m>\n",
            "- \u001b[33mdougwilson\u001b[39m <\u001b[36mdoug@somethingdoug.com\u001b[39m>\n",
            "- \u001b[33mlinusu\u001b[39m <\u001b[36mlinus@folkdatorn.se\u001b[39m>\n",
            "- \u001b[33msheplu\u001b[39m <\u001b[36mjean.burellier@gmail.com\u001b[39m>\n",
            "- \u001b[33mblakeembrey\u001b[39m <\u001b[36mhello@blakeembrey.com\u001b[39m>\n",
            "- \u001b[33mulisesgascon\u001b[39m <\u001b[36mulisesgascondev@gmail.com\u001b[39m>\n",
            "- \u001b[33mmikeal\u001b[39m <\u001b[36mmikeal.rogers@gmail.com\u001b[39m>\n",
            "\n",
            "dist-tags:\n",
            "\u001b[1m\u001b[32mlatest\u001b[39m\u001b[22m: 4.21.0\n",
            "\u001b[1m\u001b[32mnext\u001b[39m\u001b[22m: 5.0.0\n",
            "\n",
            "published \u001b[33ma week ago\u001b[39m by \u001b[33mwesleytodd\u001b[39m <\u001b[36mwes@wesleytodd.com\u001b[39m>\n"
          ]
        }
      ]
    },
    {
      "cell_type": "markdown",
      "source": [
        "**3. Получение пакета Express.js из репозитория без npm**"
      ],
      "metadata": {
        "id": "-8yh1mm9ta5n"
      }
    },
    {
      "cell_type": "code",
      "source": [
        "!git clone https://github.com/expressjs/express.git"
      ],
      "metadata": {
        "colab": {
          "base_uri": "https://localhost:8080/"
        },
        "id": "Lti_pv7pxtyQ",
        "outputId": "ab8e14dd-dc84-4190-fb03-023bb2587996"
      },
      "execution_count": 5,
      "outputs": [
        {
          "output_type": "stream",
          "name": "stdout",
          "text": [
            "Cloning into 'express'...\n",
            "remote: Enumerating objects: 32403, done.\u001b[K\n",
            "remote: Counting objects: 100% (226/226), done.\u001b[K\n",
            "remote: Compressing objects: 100% (123/123), done.\u001b[K\n",
            "remote: Total 32403 (delta 144), reused 166 (delta 99), pack-reused 32177 (from 1)\u001b[K\n",
            "Receiving objects: 100% (32403/32403), 9.16 MiB | 15.90 MiB/s, done.\n",
            "Resolving deltas: 100% (18497/18497), done.\n"
          ]
        }
      ]
    },
    {
      "cell_type": "code",
      "source": [
        "%cd express\n",
        "!npm install"
      ],
      "metadata": {
        "colab": {
          "base_uri": "https://localhost:8080/"
        },
        "id": "VWZdvOfAxy0t",
        "outputId": "9da188dc-7b20-4248-d8c2-abc8672c2071"
      },
      "execution_count": 6,
      "outputs": [
        {
          "output_type": "stream",
          "name": "stdout",
          "text": [
            "/content/express/express\n",
            "\u001b[K\u001b[?25h\u001b[37;40mnpm\u001b[0m \u001b[0m\u001b[30;43mWARN\u001b[0m \u001b[0m\u001b[35mEBADENGINE\u001b[0m Unsupported engine {\n",
            "\u001b[0m\u001b[37;40mnpm\u001b[0m \u001b[0m\u001b[30;43mWARN\u001b[0m \u001b[0m\u001b[35mEBADENGINE\u001b[0m   package: 'express@5.0.0',\n",
            "\u001b[0m\u001b[37;40mnpm\u001b[0m \u001b[0m\u001b[30;43mWARN\u001b[0m \u001b[0m\u001b[35mEBADENGINE\u001b[0m   required: { node: '>= 18' },\n",
            "\u001b[0m\u001b[37;40mnpm\u001b[0m \u001b[0m\u001b[30;43mWARN\u001b[0m \u001b[0m\u001b[35mEBADENGINE\u001b[0m   current: { node: 'v12.22.9', npm: '8.19.4' }\n",
            "\u001b[0m\u001b[37;40mnpm\u001b[0m \u001b[0m\u001b[30;43mWARN\u001b[0m \u001b[0m\u001b[35mEBADENGINE\u001b[0m }\n",
            "\u001b[0m\u001b[37;40mnpm\u001b[0m \u001b[0m\u001b[30;43mWARN\u001b[0m \u001b[0m\u001b[35mEBADENGINE\u001b[0m Unsupported engine {\n",
            "\u001b[0m\u001b[37;40mnpm\u001b[0m \u001b[0m\u001b[30;43mWARN\u001b[0m \u001b[0m\u001b[35mEBADENGINE\u001b[0m   package: 'merge-descriptors@2.0.0',\n",
            "\u001b[0m\u001b[37;40mnpm\u001b[0m \u001b[0m\u001b[30;43mWARN\u001b[0m \u001b[0m\u001b[35mEBADENGINE\u001b[0m   required: { node: '>=18' },\n",
            "\u001b[0m\u001b[37;40mnpm\u001b[0m \u001b[0m\u001b[30;43mWARN\u001b[0m \u001b[0m\u001b[35mEBADENGINE\u001b[0m   current: { node: 'v12.22.9', npm: '8.19.4' }\n",
            "\u001b[0m\u001b[37;40mnpm\u001b[0m \u001b[0m\u001b[30;43mWARN\u001b[0m \u001b[0m\u001b[35mEBADENGINE\u001b[0m }\n",
            "\u001b[0m\u001b[37;40mnpm\u001b[0m \u001b[0m\u001b[30;43mWARN\u001b[0m \u001b[0m\u001b[35mEBADENGINE\u001b[0m Unsupported engine {\n",
            "\u001b[0m\u001b[37;40mnpm\u001b[0m \u001b[0m\u001b[30;43mWARN\u001b[0m \u001b[0m\u001b[35mEBADENGINE\u001b[0m   package: 'mocha@10.2.0',\n",
            "\u001b[0m\u001b[37;40mnpm\u001b[0m \u001b[0m\u001b[30;43mWARN\u001b[0m \u001b[0m\u001b[35mEBADENGINE\u001b[0m   required: { node: '>= 14.0.0' },\n",
            "\u001b[0m\u001b[37;40mnpm\u001b[0m \u001b[0m\u001b[30;43mWARN\u001b[0m \u001b[0m\u001b[35mEBADENGINE\u001b[0m   current: { node: 'v12.22.9', npm: '8.19.4' }\n",
            "\u001b[0m\u001b[37;40mnpm\u001b[0m \u001b[0m\u001b[30;43mWARN\u001b[0m \u001b[0m\u001b[35mEBADENGINE\u001b[0m }\n",
            "\u001b[0m\u001b[37;40mnpm\u001b[0m \u001b[0m\u001b[30;43mWARN\u001b[0m \u001b[0m\u001b[35mEBADENGINE\u001b[0m Unsupported engine {\n",
            "\u001b[0m\u001b[37;40mnpm\u001b[0m \u001b[0m\u001b[30;43mWARN\u001b[0m \u001b[0m\u001b[35mEBADENGINE\u001b[0m   package: 'send@1.1.0',\n",
            "\u001b[0m\u001b[37;40mnpm\u001b[0m \u001b[0m\u001b[30;43mWARN\u001b[0m \u001b[0m\u001b[35mEBADENGINE\u001b[0m   required: { node: '>= 18' },\n",
            "\u001b[0m\u001b[37;40mnpm\u001b[0m \u001b[0m\u001b[30;43mWARN\u001b[0m \u001b[0m\u001b[35mEBADENGINE\u001b[0m   current: { node: 'v12.22.9', npm: '8.19.4' }\n",
            "\u001b[0m\u001b[37;40mnpm\u001b[0m \u001b[0m\u001b[30;43mWARN\u001b[0m \u001b[0m\u001b[35mEBADENGINE\u001b[0m }\n",
            "\u001b[0m\u001b[37;40mnpm\u001b[0m \u001b[0m\u001b[30;43mWARN\u001b[0m \u001b[0m\u001b[35mEBADENGINE\u001b[0m Unsupported engine {\n",
            "\u001b[0m\u001b[37;40mnpm\u001b[0m \u001b[0m\u001b[30;43mWARN\u001b[0m \u001b[0m\u001b[35mEBADENGINE\u001b[0m   package: 'serve-static@2.1.0',\n",
            "\u001b[0m\u001b[37;40mnpm\u001b[0m \u001b[0m\u001b[30;43mWARN\u001b[0m \u001b[0m\u001b[35mEBADENGINE\u001b[0m   required: { node: '>= 18' },\n",
            "\u001b[0m\u001b[37;40mnpm\u001b[0m \u001b[0m\u001b[30;43mWARN\u001b[0m \u001b[0m\u001b[35mEBADENGINE\u001b[0m   current: { node: 'v12.22.9', npm: '8.19.4' }\n",
            "\u001b[0m\u001b[37;40mnpm\u001b[0m \u001b[0m\u001b[30;43mWARN\u001b[0m \u001b[0m\u001b[35mEBADENGINE\u001b[0m }\n",
            "\u001b[0m\u001b[37;40mnpm\u001b[0m \u001b[0m\u001b[30;43mWARN\u001b[0m \u001b[0m\u001b[35mEBADENGINE\u001b[0m Unsupported engine {\n",
            "\u001b[0m\u001b[37;40mnpm\u001b[0m \u001b[0m\u001b[30;43mWARN\u001b[0m \u001b[0m\u001b[35mEBADENGINE\u001b[0m   package: 'path-to-regexp@8.1.0',\n",
            "\u001b[0m\u001b[37;40mnpm\u001b[0m \u001b[0m\u001b[30;43mWARN\u001b[0m \u001b[0m\u001b[35mEBADENGINE\u001b[0m   required: { node: '>=16' },\n",
            "\u001b[0m\u001b[37;40mnpm\u001b[0m \u001b[0m\u001b[30;43mWARN\u001b[0m \u001b[0m\u001b[35mEBADENGINE\u001b[0m   current: { node: 'v12.22.9', npm: '8.19.4' }\n",
            "\u001b[0m\u001b[37;40mnpm\u001b[0m \u001b[0m\u001b[30;43mWARN\u001b[0m \u001b[0m\u001b[35mEBADENGINE\u001b[0m }\n",
            "\u001b[K\u001b[?25h\u001b[37;40mnpm\u001b[0m \u001b[0m\u001b[30;43mWARN\u001b[0m \u001b[0m\u001b[35mdeprecated\u001b[0m inflight@1.0.6: This module is not supported, and leaks memory. Do not use it. Check out lru-cache if you want a good and tested way to coalesce async requests by a key value, which is much more comprehensive and powerful.\n",
            "\u001b[K\u001b[?25h\u001b[37;40mnpm\u001b[0m \u001b[0m\u001b[30;43mWARN\u001b[0m \u001b[0m\u001b[35mdeprecated\u001b[0m @humanwhocodes/config-array@0.11.14: Use @eslint/config-array instead\n",
            "\u001b[K\u001b[?25h\u001b[37;40mnpm\u001b[0m \u001b[0m\u001b[30;43mWARN\u001b[0m \u001b[0m\u001b[35mdeprecated\u001b[0m rimraf@3.0.2: Rimraf versions prior to v4 are no longer supported\n",
            "\u001b[K\u001b[?25h\u001b[37;40mnpm\u001b[0m \u001b[0m\u001b[30;43mWARN\u001b[0m \u001b[0m\u001b[35mdeprecated\u001b[0m glob@7.2.0: Glob versions prior to v9 are no longer supported\n",
            "\u001b[0m\u001b[37;40mnpm\u001b[0m \u001b[0m\u001b[30;43mWARN\u001b[0m \u001b[0m\u001b[35mdeprecated\u001b[0m @humanwhocodes/object-schema@2.0.3: Use @eslint/object-schema instead\n",
            "\u001b[K\u001b[?25h\u001b[37;40mnpm\u001b[0m \u001b[0m\u001b[30;43mWARN\u001b[0m \u001b[0m\u001b[35mdeprecated\u001b[0m superagent@8.1.2: Please upgrade to v9.0.0+ as we have fixed a public vulnerability with formidable dependency. Note that v9.0.0+ requires Node.js v14.18.0+. See https://github.com/ladjs/superagent/pull/1800 for insight. This project is supported and maintained by the team at Forward Email @ https://forwardemail.net\n",
            "\u001b[K\u001b[?25h\n",
            "added 407 packages, and audited 408 packages in 18s\n",
            "\n",
            "61 packages are looking for funding\n",
            "  run `npm fund` for details\n",
            "\n",
            "\u001b[31m\u001b[1m4\u001b[22m\u001b[39m vulnerabilities (1 \u001b[33m\u001b[1mmoderate\u001b[22m\u001b[39m, 3 \u001b[31m\u001b[1mhigh\u001b[22m\u001b[39m)\n",
            "\n",
            "To address all issues (including breaking changes), run:\n",
            "  npm audit fix --force\n",
            "\n",
            "Run `npm audit` for details.\n"
          ]
        }
      ]
    }
  ]
}